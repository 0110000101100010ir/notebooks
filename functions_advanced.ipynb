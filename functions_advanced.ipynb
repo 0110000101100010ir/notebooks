{
 "cells": [
  {
   "cell_type": "markdown",
   "metadata": {},
   "source": [
    "## PYTHON FUNCTIONS"
   ]
  },
  {
   "cell_type": "markdown",
   "metadata": {},
   "source": [
    "<ul>\n",
    "    <li> creation takes place at runtime </li>\n",
    "    <li> they are assigned in a data structure or as a variable </li>\n",
    "    <li> they are passed to functions as arguments </li>\n",
    "    <li> they are returned as a function result </li>\n",
    "</ul>"
   ]
  },
  {
   "cell_type": "code",
   "execution_count": 20,
   "metadata": {},
   "outputs": [],
   "source": [
    "#example 1\n",
    "\n",
    "def greeting(language):\n",
    "    if language == \"eng\":\n",
    "        return \"hello\"\n",
    "    elif language == \"fr\":\n",
    "        return \"bonjour\"\n",
    "    elif language == \"bn\":\n",
    "        return \"ohe\"\n",
    "    else:\n",
    "        return \"language no supported\""
   ]
  },
  {
   "cell_type": "code",
   "execution_count": 21,
   "metadata": {},
   "outputs": [
    {
     "name": "stdout",
     "output_type": "stream",
     "text": [
      "['hello', 'bonjour', 'ohe', 'language no supported']\n"
     ]
    }
   ],
   "source": [
    "# adding the function into a list\n",
    "greetlist = [greeting(\"eng\"), greeting(\"fr\"), greeting(\"bn\"), greeting(\"ger\")]\n",
    "print(greetlist)"
   ]
  },
  {
   "cell_type": "code",
   "execution_count": 25,
   "metadata": {},
   "outputs": [],
   "source": [
    "# using a function as an argument for another function\n",
    "def callafunc(func):\n",
    "    lang = input(\"language: \")\n",
    "    return (func(lang))\n"
   ]
  },
  {
   "cell_type": "code",
   "execution_count": 26,
   "metadata": {},
   "outputs": [
    {
     "name": "stdin",
     "output_type": "stream",
     "text": [
      "language:  eng\n"
     ]
    },
    {
     "name": "stdout",
     "output_type": "stream",
     "text": [
      "hello\n"
     ]
    }
   ],
   "source": [
    "print(callafunc(greeting))"
   ]
  },
  {
   "cell_type": "code",
   "execution_count": 27,
   "metadata": {},
   "outputs": [
    {
     "name": "stdin",
     "output_type": "stream",
     "text": [
      "language:  bn\n"
     ]
    },
    {
     "name": "stdout",
     "output_type": "stream",
     "text": [
      "ohe\n"
     ]
    }
   ],
   "source": [
    "print(callafunc(greeting))"
   ]
  },
  {
   "cell_type": "code",
   "execution_count": 28,
   "metadata": {},
   "outputs": [
    {
     "name": "stdin",
     "output_type": "stream",
     "text": [
      "language:  fr\n"
     ]
    },
    {
     "name": "stdout",
     "output_type": "stream",
     "text": [
      "bonjour\n"
     ]
    }
   ],
   "source": [
    "print(callafunc(greeting))"
   ]
  },
  {
   "cell_type": "code",
   "execution_count": 29,
   "metadata": {},
   "outputs": [
    {
     "name": "stdin",
     "output_type": "stream",
     "text": [
      "language:  ger\n"
     ]
    },
    {
     "name": "stdout",
     "output_type": "stream",
     "text": [
      "language no supported\n"
     ]
    }
   ],
   "source": [
    "print(callafunc(greeting))"
   ]
  },
  {
   "cell_type": "markdown",
   "metadata": {},
   "source": [
    "## HIGH ORDER FUNCTIONS"
   ]
  },
  {
   "cell_type": "markdown",
   "metadata": {},
   "source": [
    "<ul>\n",
    "    <li> takes function as an argument </li>\n",
    "    <li> returns a function </li>\n",
    "</ul>"
   ]
  },
  {
   "cell_type": "markdown",
   "metadata": {},
   "source": [
    "**built-in high order function: map() & filter(), returns iterators in python3**\n"
   ]
  },
  {
   "cell_type": "code",
   "execution_count": 39,
   "metadata": {},
   "outputs": [
    {
     "name": "stdout",
     "output_type": "stream",
     "text": [
      "[7, 8, 9, 10, 11, 12]\n",
      "[64, 125, 216, 343, 512, 729]\n"
     ]
    }
   ],
   "source": [
    "#example 2\n",
    "# using anonymous function (lambda)\n",
    "#map()\n",
    "\n",
    "lst = [4,5,6,7,8,9]\n",
    "\n",
    "print(list(map(lambda x:x+3, lst)))\n",
    "print(list(map(lambda x:x**3, lst)))"
   ]
  },
  {
   "cell_type": "code",
   "execution_count": 41,
   "metadata": {},
   "outputs": [
    {
     "name": "stdout",
     "output_type": "stream",
     "text": [
      "climate change is real\n"
     ]
    }
   ],
   "source": [
    "#more on lambda function\n",
    "some = lambda x: print(x)\n",
    "\n",
    "some(\"climate change is real\")"
   ]
  },
  {
   "cell_type": "code",
   "execution_count": 56,
   "metadata": {},
   "outputs": [
    {
     "name": "stdout",
     "output_type": "stream",
     "text": [
      "['2:even', '3:odd', '4:even', '5:odd', '6:even', '7:odd', '8:even', '9:odd', '10:even', '11:odd', '12:even', '13:odd', '14:even', '15:odd', '16:even', '17:odd', '18:even', '19:odd', '20:even', '21:odd', '22:even', '23:odd', '24:even', '25:odd', '26:even', '27:odd', '28:even', '29:odd']\n"
     ]
    }
   ],
   "source": [
    "lst2 = [num for num in range(2,30)]\n",
    "print(list(map(lambda x: str(x)+\":even\" if x % 2 == 0 else str(x)+\":odd\",lst2)))"
   ]
  },
  {
   "cell_type": "code",
   "execution_count": 59,
   "metadata": {},
   "outputs": [
    {
     "name": "stdout",
     "output_type": "stream",
     "text": [
      "[2, 4, 6, 8, 10, 12, 14, 16, 18, 20, 22, 24, 26, 28]\n",
      "[3, 5, 7, 9, 11, 13, 15, 17, 19, 21, 23, 25, 27, 29]\n"
     ]
    }
   ],
   "source": [
    "#filter()\n",
    "evens = list(filter(lambda y:y%2==0,lst2))\n",
    "odds = list(filter(lambda y:y%2!=0,lst2))\n",
    "\n",
    "print(evens, odds, sep=\"\\n\")"
   ]
  },
  {
   "cell_type": "markdown",
   "metadata": {},
   "source": [
    "**split(), sort(), sorted() functions**"
   ]
  },
  {
   "cell_type": "code",
   "execution_count": 62,
   "metadata": {},
   "outputs": [
    {
     "name": "stdout",
     "output_type": "stream",
     "text": [
      "['in', 'The', 'word', 'this', 'longest', 'sentence']\n"
     ]
    }
   ],
   "source": [
    "words = str.split(\"The longest word in this sentence\")\n",
    "words = sorted(words, key=len)\n",
    "print(words)"
   ]
  },
  {
   "cell_type": "code",
   "execution_count": 63,
   "metadata": {},
   "outputs": [
    {
     "name": "stdout",
     "output_type": "stream",
     "text": [
      "['A', 'a', 'E', 'e', 'Z', 'z']\n"
     ]
    }
   ],
   "source": [
    "charlist = [\"Z\",\"z\",\"A\",\"a\",\"E\",\"e\"]\n",
    "charlist.sort(key=str.lower)\n",
    "print(charlist)"
   ]
  },
  {
   "cell_type": "code",
   "execution_count": 64,
   "metadata": {},
   "outputs": [
    {
     "name": "stdout",
     "output_type": "stream",
     "text": [
      "['A', 'E', 'Z', 'a', 'e', 'z']\n"
     ]
    }
   ],
   "source": [
    "newChars=[\"Z\",\"z\",\"A\",\"a\",\"E\",\"e\"]\n",
    "newChars.sort()\n",
    "print(newChars)"
   ]
  },
  {
   "cell_type": "markdown",
   "metadata": {},
   "source": [
    "**METHODS/FUNCTIONS THAT CAN CHANGE AN OBJECT WILL RETURN NONE**"
   ]
  },
  {
   "cell_type": "code",
   "execution_count": 65,
   "metadata": {},
   "outputs": [
    {
     "name": "stdout",
     "output_type": "stream",
     "text": [
      "None\n"
     ]
    }
   ],
   "source": [
    "againChars = [\"Z\",\"z\",\"A\",\"a\",\"E\",\"e\"]\n",
    "print(againChars.sort())"
   ]
  },
  {
   "cell_type": "code",
   "execution_count": 66,
   "metadata": {},
   "outputs": [],
   "source": [
    "# example 3\n",
    "items = [[\"wheat\", 3.5, 10],[\"corn\",5.2, 20],[\"flour\",2.4,8]]"
   ]
  },
  {
   "cell_type": "code",
   "execution_count": 67,
   "metadata": {},
   "outputs": [
    {
     "name": "stdout",
     "output_type": "stream",
     "text": [
      "[['flour', 2.4, 8], ['wheat', 3.5, 10], ['corn', 5.2, 20]]\n"
     ]
    }
   ],
   "source": [
    "items.sort(key=lambda item:item[1]) # will be sorted by taking the second element of each item\n",
    "print(items)"
   ]
  },
  {
   "cell_type": "markdown",
   "metadata": {},
   "source": [
    "## RECURSIVE FUNCTIONS\n",
    "**not a loop, it is actually a version of iterartion known as tail iteration**"
   ]
  },
  {
   "cell_type": "code",
   "execution_count": 70,
   "metadata": {},
   "outputs": [],
   "source": [
    "def func(x):\n",
    "    if x<0:\n",
    "        return \"End of recursion\"\n",
    "    print(x)\n",
    "    return func(x-1)"
   ]
  },
  {
   "cell_type": "code",
   "execution_count": 69,
   "metadata": {},
   "outputs": [
    {
     "name": "stdout",
     "output_type": "stream",
     "text": [
      "5\n",
      "4\n",
      "3\n",
      "2\n",
      "1\n",
      "0\n"
     ]
    },
    {
     "data": {
      "text/plain": [
       "'End of recursion'"
      ]
     },
     "execution_count": 69,
     "metadata": {},
     "output_type": "execute_result"
    }
   ],
   "source": [
    "func(5)"
   ]
  },
  {
   "cell_type": "code",
   "execution_count": 84,
   "metadata": {},
   "outputs": [],
   "source": [
    "# factorial using recursion\n",
    "def factorial(n):\n",
    "    ''' will return factorial of n (positive integers) '''\n",
    "    if n<=1:\n",
    "        return n\n",
    "    return n*factorial(n-1)"
   ]
  },
  {
   "cell_type": "code",
   "execution_count": 85,
   "metadata": {},
   "outputs": [
    {
     "data": {
      "text/plain": [
       "0.5"
      ]
     },
     "execution_count": 85,
     "metadata": {},
     "output_type": "execute_result"
    }
   ],
   "source": [
    "factorial(0.5)"
   ]
  },
  {
   "cell_type": "code",
   "execution_count": 86,
   "metadata": {},
   "outputs": [
    {
     "name": "stdout",
     "output_type": "stream",
     "text": [
      "Help on function factorial in module __main__:\n",
      "\n",
      "factorial(n)\n",
      "    will return factorial of n (positive integers)\n",
      "\n"
     ]
    }
   ],
   "source": [
    "help(factorial)"
   ]
  },
  {
   "cell_type": "code",
   "execution_count": 87,
   "metadata": {},
   "outputs": [
    {
     "name": "stdout",
     "output_type": "stream",
     "text": [
      "120\n"
     ]
    }
   ],
   "source": [
    "#aliasing\n",
    "\n",
    "from __main__ import factorial as fac\n",
    "print(fac(5))"
   ]
  },
  {
   "cell_type": "code",
   "execution_count": 106,
   "metadata": {},
   "outputs": [],
   "source": [
    "# example 3 *\n",
    "def sample1(low, high):\n",
    "    while low<high:\n",
    "        print(low)\n",
    "        low+=1\n",
    "    return low\n",
    "        \n",
    "def sample2(low, high):\n",
    "    if low>=high:\n",
    "        return low\n",
    "    else:\n",
    "        print(low)\n",
    "    return sample2(low+1,high)"
   ]
  },
  {
   "cell_type": "code",
   "execution_count": 103,
   "metadata": {},
   "outputs": [
    {
     "name": "stdout",
     "output_type": "stream",
     "text": [
      "1\n",
      "2\n",
      "3\n",
      "\n",
      "1\n",
      "2\n",
      "3\n"
     ]
    }
   ],
   "source": [
    "print(sample1(1,3),end=\"\\n\\n\")\n",
    "print(sample2(1,3))"
   ]
  },
  {
   "cell_type": "markdown",
   "metadata": {},
   "source": [
    "## GENERATORS"
   ]
  },
  {
   "cell_type": "code",
   "execution_count": 122,
   "metadata": {},
   "outputs": [],
   "source": [
    "def myGen(low, high):\n",
    "    while low<=high:\n",
    "        yield low\n",
    "        low+=1"
   ]
  },
  {
   "cell_type": "code",
   "execution_count": 123,
   "metadata": {},
   "outputs": [
    {
     "name": "stdout",
     "output_type": "stream",
     "text": [
      "[1, 2, 3, 4, 5]\n"
     ]
    }
   ],
   "source": [
    "print(list(myGen(1,5)))"
   ]
  },
  {
   "cell_type": "code",
   "execution_count": 124,
   "metadata": {},
   "outputs": [
    {
     "name": "stdout",
     "output_type": "stream",
     "text": [
      "1\n",
      "2\n",
      "3\n",
      "4\n",
      "5\n",
      "6\n",
      "7\n",
      "8\n",
      "9\n",
      "10\n"
     ]
    }
   ],
   "source": [
    "for num in myGen(1,10):\n",
    "    print(num)"
   ]
  },
  {
   "cell_type": "code",
   "execution_count": 129,
   "metadata": {},
   "outputs": [
    {
     "name": "stdout",
     "output_type": "stream",
     "text": [
      "<class 'function'>\n",
      "<class 'generator'>\n"
     ]
    }
   ],
   "source": [
    "print(type(myGen))\n",
    "print(type(myGen(1,10)))\n",
    "# notice the difference"
   ]
  },
  {
   "cell_type": "markdown",
   "metadata": {},
   "source": [
    "**GENERATOR OBJECT WILL NOT GENERATE ANY DATA UNTILL IT IS DEMANDED**"
   ]
  },
  {
   "cell_type": "code",
   "execution_count": 141,
   "metadata": {},
   "outputs": [],
   "source": [
    "# alternative way to create a generator object\n",
    "lst = [3,5,7,9]\n",
    "generator = (x**2 for x in lst)"
   ]
  },
  {
   "cell_type": "code",
   "execution_count": 131,
   "metadata": {},
   "outputs": [
    {
     "name": "stdout",
     "output_type": "stream",
     "text": [
      "<generator object <genexpr> at 0x7ff3754b0510>\n"
     ]
    }
   ],
   "source": [
    "print(generator) # will not generate any data"
   ]
  },
  {
   "cell_type": "code",
   "execution_count": 139,
   "metadata": {},
   "outputs": [
    {
     "name": "stdout",
     "output_type": "stream",
     "text": [
      "[9, 25, 49, 81]\n"
     ]
    }
   ],
   "source": [
    "generatedList = list(generator)\n",
    "print(generatedList)"
   ]
  },
  {
   "cell_type": "code",
   "execution_count": 142,
   "metadata": {},
   "outputs": [
    {
     "name": "stdout",
     "output_type": "stream",
     "text": [
      "9\n",
      "25\n",
      "49\n",
      "81\n"
     ]
    }
   ],
   "source": [
    "for x in generator:\n",
    "    print(x)"
   ]
  }
 ],
 "metadata": {
  "kernelspec": {
   "display_name": "Python 3",
   "language": "python",
   "name": "python3"
  },
  "language_info": {
   "codemirror_mode": {
    "name": "ipython",
    "version": 3
   },
   "file_extension": ".py",
   "mimetype": "text/x-python",
   "name": "python",
   "nbconvert_exporter": "python",
   "pygments_lexer": "ipython3",
   "version": "3.8.5"
  }
 },
 "nbformat": 4,
 "nbformat_minor": 4
}
